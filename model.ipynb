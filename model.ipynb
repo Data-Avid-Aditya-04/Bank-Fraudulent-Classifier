{
 "cells": [
  {
   "cell_type": "code",
   "execution_count": 1,
   "id": "71f1d503-24de-4825-9fc8-0cbea66ecf04",
   "metadata": {},
   "outputs": [],
   "source": [
    "import pandas as pd"
   ]
  },
  {
   "cell_type": "code",
   "execution_count": 2,
   "id": "fed16508-8ba5-41b9-8bee-ff4f689e74dd",
   "metadata": {},
   "outputs": [
    {
     "name": "stdout",
     "output_type": "stream",
     "text": [
      "(532428, 45)\n"
     ]
    },
    {
     "data": {
      "text/html": [
       "<div>\n",
       "<style scoped>\n",
       "    .dataframe tbody tr th:only-of-type {\n",
       "        vertical-align: middle;\n",
       "    }\n",
       "\n",
       "    .dataframe tbody tr th {\n",
       "        vertical-align: top;\n",
       "    }\n",
       "\n",
       "    .dataframe thead th {\n",
       "        text-align: right;\n",
       "    }\n",
       "</style>\n",
       "<table border=\"1\" class=\"dataframe\">\n",
       "  <thead>\n",
       "    <tr style=\"text-align: right;\">\n",
       "      <th></th>\n",
       "      <th>member_id</th>\n",
       "      <th>loan_amnt</th>\n",
       "      <th>funded_amnt</th>\n",
       "      <th>funded_amnt_inv</th>\n",
       "      <th>term</th>\n",
       "      <th>batch_enrolled</th>\n",
       "      <th>int_rate</th>\n",
       "      <th>grade</th>\n",
       "      <th>sub_grade</th>\n",
       "      <th>emp_title</th>\n",
       "      <th>...</th>\n",
       "      <th>collections_12_mths_ex_med</th>\n",
       "      <th>mths_since_last_major_derog</th>\n",
       "      <th>application_type</th>\n",
       "      <th>verification_status_joint</th>\n",
       "      <th>last_week_pay</th>\n",
       "      <th>acc_now_delinq</th>\n",
       "      <th>tot_coll_amt</th>\n",
       "      <th>tot_cur_bal</th>\n",
       "      <th>total_rev_hi_lim</th>\n",
       "      <th>loan_status</th>\n",
       "    </tr>\n",
       "  </thead>\n",
       "  <tbody>\n",
       "    <tr>\n",
       "      <th>0</th>\n",
       "      <td>58189336</td>\n",
       "      <td>14350</td>\n",
       "      <td>14350</td>\n",
       "      <td>14350.0</td>\n",
       "      <td>36 months</td>\n",
       "      <td></td>\n",
       "      <td>19.19</td>\n",
       "      <td>E</td>\n",
       "      <td>E3</td>\n",
       "      <td>clerk</td>\n",
       "      <td>...</td>\n",
       "      <td>0.0</td>\n",
       "      <td>74.0</td>\n",
       "      <td>INDIVIDUAL</td>\n",
       "      <td>NaN</td>\n",
       "      <td>26th week</td>\n",
       "      <td>0.0</td>\n",
       "      <td>0.0</td>\n",
       "      <td>28699.0</td>\n",
       "      <td>30800.0</td>\n",
       "      <td>0</td>\n",
       "    </tr>\n",
       "  </tbody>\n",
       "</table>\n",
       "<p>1 rows × 45 columns</p>\n",
       "</div>"
      ],
      "text/plain": [
       "   member_id  loan_amnt  funded_amnt  funded_amnt_inv       term  \\\n",
       "0   58189336      14350        14350          14350.0  36 months   \n",
       "\n",
       "  batch_enrolled  int_rate grade sub_grade emp_title  ...  \\\n",
       "0                    19.19     E        E3     clerk  ...   \n",
       "\n",
       "  collections_12_mths_ex_med mths_since_last_major_derog  application_type  \\\n",
       "0                        0.0                        74.0        INDIVIDUAL   \n",
       "\n",
       "  verification_status_joint last_week_pay acc_now_delinq tot_coll_amt  \\\n",
       "0                       NaN     26th week            0.0          0.0   \n",
       "\n",
       "  tot_cur_bal total_rev_hi_lim loan_status  \n",
       "0     28699.0          30800.0           0  \n",
       "\n",
       "[1 rows x 45 columns]"
      ]
     },
     "execution_count": 2,
     "metadata": {},
     "output_type": "execute_result"
    }
   ],
   "source": [
    "df_train = pd.read_csv(\"train_indessa.csv\")\n",
    "print(df_train.shape)\n",
    "df_train.head(1)"
   ]
  },
  {
   "cell_type": "code",
   "execution_count": 3,
   "id": "de319f13-f2d6-453e-b1fc-82a444b3aad0",
   "metadata": {},
   "outputs": [
    {
     "name": "stdout",
     "output_type": "stream",
     "text": [
      "(354951, 44)\n"
     ]
    },
    {
     "data": {
      "text/html": [
       "<div>\n",
       "<style scoped>\n",
       "    .dataframe tbody tr th:only-of-type {\n",
       "        vertical-align: middle;\n",
       "    }\n",
       "\n",
       "    .dataframe tbody tr th {\n",
       "        vertical-align: top;\n",
       "    }\n",
       "\n",
       "    .dataframe thead th {\n",
       "        text-align: right;\n",
       "    }\n",
       "</style>\n",
       "<table border=\"1\" class=\"dataframe\">\n",
       "  <thead>\n",
       "    <tr style=\"text-align: right;\">\n",
       "      <th></th>\n",
       "      <th>member_id</th>\n",
       "      <th>loan_amnt</th>\n",
       "      <th>funded_amnt</th>\n",
       "      <th>funded_amnt_inv</th>\n",
       "      <th>term</th>\n",
       "      <th>batch_enrolled</th>\n",
       "      <th>int_rate</th>\n",
       "      <th>grade</th>\n",
       "      <th>sub_grade</th>\n",
       "      <th>emp_title</th>\n",
       "      <th>...</th>\n",
       "      <th>collection_recovery_fee</th>\n",
       "      <th>collections_12_mths_ex_med</th>\n",
       "      <th>mths_since_last_major_derog</th>\n",
       "      <th>application_type</th>\n",
       "      <th>verification_status_joint</th>\n",
       "      <th>last_week_pay</th>\n",
       "      <th>acc_now_delinq</th>\n",
       "      <th>tot_coll_amt</th>\n",
       "      <th>tot_cur_bal</th>\n",
       "      <th>total_rev_hi_lim</th>\n",
       "    </tr>\n",
       "  </thead>\n",
       "  <tbody>\n",
       "    <tr>\n",
       "      <th>0</th>\n",
       "      <td>11937648</td>\n",
       "      <td>14000</td>\n",
       "      <td>14000</td>\n",
       "      <td>14000.0</td>\n",
       "      <td>60 months</td>\n",
       "      <td>BAT4711174</td>\n",
       "      <td>16.24</td>\n",
       "      <td>C</td>\n",
       "      <td>C5</td>\n",
       "      <td>Data Analyst</td>\n",
       "      <td>...</td>\n",
       "      <td>0.0</td>\n",
       "      <td>0.0</td>\n",
       "      <td>NaN</td>\n",
       "      <td>INDIVIDUAL</td>\n",
       "      <td>NaN</td>\n",
       "      <td>104th week</td>\n",
       "      <td>0.0</td>\n",
       "      <td>0.0</td>\n",
       "      <td>85230.0</td>\n",
       "      <td>45700.0</td>\n",
       "    </tr>\n",
       "    <tr>\n",
       "      <th>1</th>\n",
       "      <td>38983318</td>\n",
       "      <td>16000</td>\n",
       "      <td>16000</td>\n",
       "      <td>16000.0</td>\n",
       "      <td>60 months</td>\n",
       "      <td>BAT4318899</td>\n",
       "      <td>9.49</td>\n",
       "      <td>B</td>\n",
       "      <td>B2</td>\n",
       "      <td>Senior Database Administrator</td>\n",
       "      <td>...</td>\n",
       "      <td>0.0</td>\n",
       "      <td>0.0</td>\n",
       "      <td>NaN</td>\n",
       "      <td>INDIVIDUAL</td>\n",
       "      <td>NaN</td>\n",
       "      <td>57th week</td>\n",
       "      <td>0.0</td>\n",
       "      <td>0.0</td>\n",
       "      <td>444991.0</td>\n",
       "      <td>21400.0</td>\n",
       "    </tr>\n",
       "    <tr>\n",
       "      <th>2</th>\n",
       "      <td>27999917</td>\n",
       "      <td>11050</td>\n",
       "      <td>11050</td>\n",
       "      <td>11050.0</td>\n",
       "      <td>60 months</td>\n",
       "      <td>BAT446479</td>\n",
       "      <td>15.61</td>\n",
       "      <td>D</td>\n",
       "      <td>D1</td>\n",
       "      <td>Customer service representative</td>\n",
       "      <td>...</td>\n",
       "      <td>0.0</td>\n",
       "      <td>0.0</td>\n",
       "      <td>26.0</td>\n",
       "      <td>INDIVIDUAL</td>\n",
       "      <td>NaN</td>\n",
       "      <td>70th week</td>\n",
       "      <td>0.0</td>\n",
       "      <td>0.0</td>\n",
       "      <td>105737.0</td>\n",
       "      <td>16300.0</td>\n",
       "    </tr>\n",
       "    <tr>\n",
       "      <th>3</th>\n",
       "      <td>61514932</td>\n",
       "      <td>35000</td>\n",
       "      <td>35000</td>\n",
       "      <td>34700.0</td>\n",
       "      <td>60 months</td>\n",
       "      <td>BAT4664105</td>\n",
       "      <td>12.69</td>\n",
       "      <td>C</td>\n",
       "      <td>C2</td>\n",
       "      <td>ACCT OFFICER</td>\n",
       "      <td>...</td>\n",
       "      <td>0.0</td>\n",
       "      <td>0.0</td>\n",
       "      <td>NaN</td>\n",
       "      <td>INDIVIDUAL</td>\n",
       "      <td>NaN</td>\n",
       "      <td>22th week</td>\n",
       "      <td>0.0</td>\n",
       "      <td>0.0</td>\n",
       "      <td>287022.0</td>\n",
       "      <td>72400.0</td>\n",
       "    </tr>\n",
       "    <tr>\n",
       "      <th>4</th>\n",
       "      <td>59622821</td>\n",
       "      <td>6500</td>\n",
       "      <td>6500</td>\n",
       "      <td>6500.0</td>\n",
       "      <td>36 months</td>\n",
       "      <td></td>\n",
       "      <td>6.89</td>\n",
       "      <td>A</td>\n",
       "      <td>A3</td>\n",
       "      <td>Paralegal</td>\n",
       "      <td>...</td>\n",
       "      <td>0.0</td>\n",
       "      <td>0.0</td>\n",
       "      <td>NaN</td>\n",
       "      <td>INDIVIDUAL</td>\n",
       "      <td>NaN</td>\n",
       "      <td>22th week</td>\n",
       "      <td>0.0</td>\n",
       "      <td>0.0</td>\n",
       "      <td>234278.0</td>\n",
       "      <td>26700.0</td>\n",
       "    </tr>\n",
       "  </tbody>\n",
       "</table>\n",
       "<p>5 rows × 44 columns</p>\n",
       "</div>"
      ],
      "text/plain": [
       "   member_id  loan_amnt  funded_amnt  funded_amnt_inv       term  \\\n",
       "0   11937648      14000        14000          14000.0  60 months   \n",
       "1   38983318      16000        16000          16000.0  60 months   \n",
       "2   27999917      11050        11050          11050.0  60 months   \n",
       "3   61514932      35000        35000          34700.0  60 months   \n",
       "4   59622821       6500         6500           6500.0  36 months   \n",
       "\n",
       "  batch_enrolled  int_rate grade sub_grade                        emp_title  \\\n",
       "0     BAT4711174     16.24     C        C5                     Data Analyst   \n",
       "1     BAT4318899      9.49     B        B2    Senior Database Administrator   \n",
       "2      BAT446479     15.61     D        D1  Customer service representative   \n",
       "3     BAT4664105     12.69     C        C2                     ACCT OFFICER   \n",
       "4                     6.89     A        A3                        Paralegal   \n",
       "\n",
       "   ... collection_recovery_fee collections_12_mths_ex_med  \\\n",
       "0  ...                     0.0                        0.0   \n",
       "1  ...                     0.0                        0.0   \n",
       "2  ...                     0.0                        0.0   \n",
       "3  ...                     0.0                        0.0   \n",
       "4  ...                     0.0                        0.0   \n",
       "\n",
       "   mths_since_last_major_derog application_type verification_status_joint  \\\n",
       "0                          NaN       INDIVIDUAL                       NaN   \n",
       "1                          NaN       INDIVIDUAL                       NaN   \n",
       "2                         26.0       INDIVIDUAL                       NaN   \n",
       "3                          NaN       INDIVIDUAL                       NaN   \n",
       "4                          NaN       INDIVIDUAL                       NaN   \n",
       "\n",
       "  last_week_pay acc_now_delinq tot_coll_amt tot_cur_bal total_rev_hi_lim  \n",
       "0    104th week            0.0          0.0     85230.0          45700.0  \n",
       "1     57th week            0.0          0.0    444991.0          21400.0  \n",
       "2     70th week            0.0          0.0    105737.0          16300.0  \n",
       "3     22th week            0.0          0.0    287022.0          72400.0  \n",
       "4     22th week            0.0          0.0    234278.0          26700.0  \n",
       "\n",
       "[5 rows x 44 columns]"
      ]
     },
     "execution_count": 3,
     "metadata": {},
     "output_type": "execute_result"
    }
   ],
   "source": [
    "df_test = pd.read_csv(\"test_indessa.csv\")\n",
    "print(df_test.shape)\n",
    "df_test.head()"
   ]
  },
  {
   "cell_type": "code",
   "execution_count": 4,
   "id": "469ed3b4-9f1b-4efd-bbcb-62ef22179c25",
   "metadata": {},
   "outputs": [],
   "source": [
    "df = pd.concat([df_train, df_test])"
   ]
  },
  {
   "cell_type": "code",
   "execution_count": 5,
   "id": "ae553c2e-e53c-448f-a497-0b995c9b34d1",
   "metadata": {
    "tags": []
   },
   "outputs": [
    {
     "data": {
      "text/plain": [
       "member_id                           0\n",
       "loan_amnt                           0\n",
       "funded_amnt                         0\n",
       "funded_amnt_inv                     0\n",
       "term                                0\n",
       "batch_enrolled                 130748\n",
       "int_rate                            0\n",
       "grade                               0\n",
       "sub_grade                           0\n",
       "emp_title                       51462\n",
       "emp_length                      44825\n",
       "home_ownership                      0\n",
       "annual_inc                          4\n",
       "verification_status                 0\n",
       "pymnt_plan                          0\n",
       "desc                           761599\n",
       "purpose                             0\n",
       "title                             152\n",
       "zip_code                            0\n",
       "addr_state                          0\n",
       "dti                                 0\n",
       "delinq_2yrs                        29\n",
       "inq_last_6mths                     29\n",
       "mths_since_last_delinq         454312\n",
       "mths_since_last_record         750326\n",
       "open_acc                           29\n",
       "pub_rec                            29\n",
       "revol_bal                           0\n",
       "revol_util                        502\n",
       "total_acc                          29\n",
       "initial_list_status                 0\n",
       "total_rec_int                       0\n",
       "total_rec_late_fee                  0\n",
       "recoveries                          0\n",
       "collection_recovery_fee             0\n",
       "collections_12_mths_ex_med        145\n",
       "mths_since_last_major_derog    665676\n",
       "application_type                    0\n",
       "verification_status_joint      886868\n",
       "last_week_pay                       0\n",
       "acc_now_delinq                     29\n",
       "tot_coll_amt                    70276\n",
       "tot_cur_bal                     70276\n",
       "total_rev_hi_lim                70276\n",
       "loan_status                    354951\n",
       "dtype: int64"
      ]
     },
     "execution_count": 5,
     "metadata": {},
     "output_type": "execute_result"
    }
   ],
   "source": [
    "df.isnull().sum()"
   ]
  },
  {
   "cell_type": "code",
   "execution_count": 6,
   "id": "f20a2a7e-1687-4b61-ae73-dbc343c8138c",
   "metadata": {},
   "outputs": [],
   "source": [
    "df.tot_coll_amt.fillna(0, inplace = True)\n",
    "df.tot_cur_bal.fillna(df.tot_cur_bal.median(), inplace = True)\n",
    "df.total_rev_hi_lim.fillna(df.total_rev_hi_lim.median(), inplace = True)\n",
    "df.acc_now_delinq.fillna(0, inplace = True)\n",
    "df.collections_12_mths_ex_med.fillna(0, inplace = True)\n",
    "df.total_acc.fillna(df.total_acc.median(), inplace = True)\n",
    "df.revol_util.fillna(df.revol_util.median(), inplace = True)\n",
    "df.pub_rec.fillna(0, inplace = True)\n",
    "df.open_acc.fillna(df.open_acc.median(), inplace = True)\n",
    "df.inq_last_6mths.fillna(0, inplace = True)\n",
    "df.delinq_2yrs.fillna(0, inplace = True)\n",
    "df.annual_inc.fillna(df.annual_inc.median, inplace = True)\n",
    "df.emp_length.fillna('10+ years', inplace = True)"
   ]
  },
  {
   "cell_type": "code",
   "execution_count": 7,
   "id": "451ef6b6-8120-49d5-bea9-1683d7c60781",
   "metadata": {},
   "outputs": [],
   "source": [
    "df['annual_inc'] = pd.to_numeric(df['annual_inc'], errors='coerce')"
   ]
  },
  {
   "cell_type": "code",
   "execution_count": 8,
   "id": "20906daf-2705-44af-8df9-8077ed90e4f6",
   "metadata": {},
   "outputs": [],
   "source": [
    "df.annual_inc.fillna(60000, inplace = True)"
   ]
  },
  {
   "cell_type": "code",
   "execution_count": 9,
   "id": "e115628b-0702-45f2-8fb5-0d8aae4ee313",
   "metadata": {},
   "outputs": [
    {
     "data": {
      "text/plain": [
       "60000.0     34285\n",
       "50000.0     30575\n",
       "65000.0     25498\n",
       "70000.0     24121\n",
       "40000.0     23943\n",
       "            ...  \n",
       "44289.0         1\n",
       "138375.0        1\n",
       "54418.0         1\n",
       "13886.0         1\n",
       "58768.0         1\n",
       "Name: annual_inc, Length: 49384, dtype: int64"
      ]
     },
     "execution_count": 9,
     "metadata": {},
     "output_type": "execute_result"
    }
   ],
   "source": [
    "df.annual_inc.value_counts()"
   ]
  },
  {
   "cell_type": "code",
   "execution_count": 10,
   "id": "e68e8746-177c-446c-9dbd-d6bdaf62e57b",
   "metadata": {
    "tags": []
   },
   "outputs": [],
   "source": [
    "df = df.drop([\"member_id\", \"desc\",\"emp_title\" ,\"batch_enrolled\",  \"mths_since_last_delinq\", \"mths_since_last_record\", \"mths_since_last_major_derog\", \"verification_status_joint\"], axis = 1)"
   ]
  },
  {
   "cell_type": "code",
   "execution_count": 11,
   "id": "ac7a3c56-090c-4947-a636-927a4e3e32fc",
   "metadata": {},
   "outputs": [],
   "source": [
    "df.loan_status.fillna(123124324, inplace = True)"
   ]
  },
  {
   "cell_type": "code",
   "execution_count": 12,
   "id": "6b472d8d-e4eb-4318-b08f-86351d667b73",
   "metadata": {},
   "outputs": [],
   "source": [
    "from sklearn.preprocessing import LabelEncoder\n",
    "le = LabelEncoder()"
   ]
  },
  {
   "cell_type": "code",
   "execution_count": 13,
   "id": "d7f31a13-2c2d-43b3-bde7-5f47a8bb5bd8",
   "metadata": {
    "tags": []
   },
   "outputs": [],
   "source": [
    "df[df.select_dtypes(include = object).columns] = df[df.select_dtypes(include = object).columns].apply(le.fit_transform)"
   ]
  },
  {
   "cell_type": "code",
   "execution_count": 14,
   "id": "18202025-8a80-4c7a-9837-6a55b5236598",
   "metadata": {},
   "outputs": [
    {
     "data": {
      "text/plain": [
       "Index([], dtype='object')"
      ]
     },
     "execution_count": 14,
     "metadata": {},
     "output_type": "execute_result"
    }
   ],
   "source": [
    "df.select_dtypes(include = object).columns"
   ]
  },
  {
   "cell_type": "code",
   "execution_count": 15,
   "id": "070d406d-6f01-41d2-972c-0e9bd8667dba",
   "metadata": {
    "tags": []
   },
   "outputs": [
    {
     "name": "stdout",
     "output_type": "stream",
     "text": [
      "<class 'pandas.core.frame.DataFrame'>\n",
      "Int64Index: 887379 entries, 0 to 354950\n",
      "Data columns (total 37 columns):\n",
      " #   Column                      Non-Null Count   Dtype  \n",
      "---  ------                      --------------   -----  \n",
      " 0   loan_amnt                   887379 non-null  int64  \n",
      " 1   funded_amnt                 887379 non-null  int64  \n",
      " 2   funded_amnt_inv             887379 non-null  float64\n",
      " 3   term                        887379 non-null  int32  \n",
      " 4   int_rate                    887379 non-null  float64\n",
      " 5   grade                       887379 non-null  int32  \n",
      " 6   sub_grade                   887379 non-null  int32  \n",
      " 7   emp_length                  887379 non-null  int32  \n",
      " 8   home_ownership              887379 non-null  int32  \n",
      " 9   annual_inc                  887379 non-null  float64\n",
      " 10  verification_status         887379 non-null  int32  \n",
      " 11  pymnt_plan                  887379 non-null  int32  \n",
      " 12  purpose                     887379 non-null  int32  \n",
      " 13  title                       887379 non-null  int32  \n",
      " 14  zip_code                    887379 non-null  int32  \n",
      " 15  addr_state                  887379 non-null  int32  \n",
      " 16  dti                         887379 non-null  float64\n",
      " 17  delinq_2yrs                 887379 non-null  float64\n",
      " 18  inq_last_6mths              887379 non-null  float64\n",
      " 19  open_acc                    887379 non-null  float64\n",
      " 20  pub_rec                     887379 non-null  float64\n",
      " 21  revol_bal                   887379 non-null  float64\n",
      " 22  revol_util                  887379 non-null  float64\n",
      " 23  total_acc                   887379 non-null  float64\n",
      " 24  initial_list_status         887379 non-null  int32  \n",
      " 25  total_rec_int               887379 non-null  float64\n",
      " 26  total_rec_late_fee          887379 non-null  float64\n",
      " 27  recoveries                  887379 non-null  float64\n",
      " 28  collection_recovery_fee     887379 non-null  float64\n",
      " 29  collections_12_mths_ex_med  887379 non-null  float64\n",
      " 30  application_type            887379 non-null  int32  \n",
      " 31  last_week_pay               887379 non-null  int32  \n",
      " 32  acc_now_delinq              887379 non-null  float64\n",
      " 33  tot_coll_amt                887379 non-null  float64\n",
      " 34  tot_cur_bal                 887379 non-null  float64\n",
      " 35  total_rev_hi_lim            887379 non-null  float64\n",
      " 36  loan_status                 887379 non-null  float64\n",
      "dtypes: float64(21), int32(14), int64(2)\n",
      "memory usage: 209.9 MB\n"
     ]
    }
   ],
   "source": [
    "df.info()"
   ]
  },
  {
   "cell_type": "code",
   "execution_count": 16,
   "id": "5ed79ea8-e8b0-49b2-b7c0-be4b2d406533",
   "metadata": {},
   "outputs": [],
   "source": [
    "df_train = df[0:532427]"
   ]
  },
  {
   "cell_type": "code",
   "execution_count": 17,
   "id": "b2e6acdb-cb74-4340-bdd7-5b1220e214ea",
   "metadata": {},
   "outputs": [],
   "source": [
    "df_test = df[532428::]"
   ]
  },
  {
   "cell_type": "code",
   "execution_count": 18,
   "id": "954f91df-5d87-4582-82da-eeddd1a21be1",
   "metadata": {},
   "outputs": [
    {
     "data": {
      "text/plain": [
       "123124324.0    354951\n",
       "Name: loan_status, dtype: int64"
      ]
     },
     "execution_count": 18,
     "metadata": {},
     "output_type": "execute_result"
    }
   ],
   "source": [
    "df_test.loan_status.value_counts()"
   ]
  },
  {
   "cell_type": "code",
   "execution_count": 19,
   "id": "de6d9130-e6a6-4c6c-8f50-3e823c8d81b5",
   "metadata": {},
   "outputs": [],
   "source": [
    "df_test = df_test.drop(\"loan_status\", axis = 1)"
   ]
  },
  {
   "cell_type": "code",
   "execution_count": 20,
   "id": "98f87952-67d4-4820-a18c-7fc7b97fd284",
   "metadata": {},
   "outputs": [],
   "source": [
    "lf = df_train"
   ]
  },
  {
   "cell_type": "code",
   "execution_count": 21,
   "id": "cd1525a4-48ea-465c-96b7-b23cc81ef57c",
   "metadata": {},
   "outputs": [],
   "source": [
    "# now we will do the samoling and model building part on this lf dataset"
   ]
  },
  {
   "cell_type": "code",
   "execution_count": 22,
   "id": "c48303c4-d1c5-411d-b17e-45f0f556e890",
   "metadata": {},
   "outputs": [],
   "source": [
    "from sklearn.model_selection import train_test_split\n",
    "lf_train_x, lf_test_x, lf_train_y, lf_test_y = train_test_split(lf.iloc[:,0:-1], lf.iloc[:,-1], test_size = .2)"
   ]
  },
  {
   "cell_type": "code",
   "execution_count": 23,
   "id": "b0f2a3a0-515d-4947-9de5-e29b6afffdab",
   "metadata": {},
   "outputs": [
    {
     "name": "stdout",
     "output_type": "stream",
     "text": [
      "(425941, 36)\n",
      "(106486, 36)\n",
      "(106486,)\n",
      "(425941,)\n"
     ]
    }
   ],
   "source": [
    "print(lf_train_x.shape)\n",
    "print(lf_test_x.shape)\n",
    "print(lf_test_y.shape)\n",
    "print(lf_train_y.shape)"
   ]
  },
  {
   "cell_type": "code",
   "execution_count": 24,
   "id": "045041b6-e857-4bcf-937a-1f0158cfdb46",
   "metadata": {},
   "outputs": [],
   "source": [
    "from sklearn.linear_model import LogisticRegression\n",
    "logreg = LogisticRegression(class_weight=\"balanced\")"
   ]
  },
  {
   "cell_type": "code",
   "execution_count": 25,
   "id": "5acd7b0e-ba50-4ee4-b675-73de70dd5d11",
   "metadata": {},
   "outputs": [
    {
     "name": "stderr",
     "output_type": "stream",
     "text": [
      "C:\\Users\\adity\\anaconda3\\lib\\site-packages\\sklearn\\linear_model\\_logistic.py:458: ConvergenceWarning: lbfgs failed to converge (status=1):\n",
      "STOP: TOTAL NO. of ITERATIONS REACHED LIMIT.\n",
      "\n",
      "Increase the number of iterations (max_iter) or scale the data as shown in:\n",
      "    https://scikit-learn.org/stable/modules/preprocessing.html\n",
      "Please also refer to the documentation for alternative solver options:\n",
      "    https://scikit-learn.org/stable/modules/linear_model.html#logistic-regression\n",
      "  n_iter_i = _check_optimize_result(\n"
     ]
    },
    {
     "data": {
      "text/html": [
       "<style>#sk-container-id-1 {color: black;background-color: white;}#sk-container-id-1 pre{padding: 0;}#sk-container-id-1 div.sk-toggleable {background-color: white;}#sk-container-id-1 label.sk-toggleable__label {cursor: pointer;display: block;width: 100%;margin-bottom: 0;padding: 0.3em;box-sizing: border-box;text-align: center;}#sk-container-id-1 label.sk-toggleable__label-arrow:before {content: \"▸\";float: left;margin-right: 0.25em;color: #696969;}#sk-container-id-1 label.sk-toggleable__label-arrow:hover:before {color: black;}#sk-container-id-1 div.sk-estimator:hover label.sk-toggleable__label-arrow:before {color: black;}#sk-container-id-1 div.sk-toggleable__content {max-height: 0;max-width: 0;overflow: hidden;text-align: left;background-color: #f0f8ff;}#sk-container-id-1 div.sk-toggleable__content pre {margin: 0.2em;color: black;border-radius: 0.25em;background-color: #f0f8ff;}#sk-container-id-1 input.sk-toggleable__control:checked~div.sk-toggleable__content {max-height: 200px;max-width: 100%;overflow: auto;}#sk-container-id-1 input.sk-toggleable__control:checked~label.sk-toggleable__label-arrow:before {content: \"▾\";}#sk-container-id-1 div.sk-estimator input.sk-toggleable__control:checked~label.sk-toggleable__label {background-color: #d4ebff;}#sk-container-id-1 div.sk-label input.sk-toggleable__control:checked~label.sk-toggleable__label {background-color: #d4ebff;}#sk-container-id-1 input.sk-hidden--visually {border: 0;clip: rect(1px 1px 1px 1px);clip: rect(1px, 1px, 1px, 1px);height: 1px;margin: -1px;overflow: hidden;padding: 0;position: absolute;width: 1px;}#sk-container-id-1 div.sk-estimator {font-family: monospace;background-color: #f0f8ff;border: 1px dotted black;border-radius: 0.25em;box-sizing: border-box;margin-bottom: 0.5em;}#sk-container-id-1 div.sk-estimator:hover {background-color: #d4ebff;}#sk-container-id-1 div.sk-parallel-item::after {content: \"\";width: 100%;border-bottom: 1px solid gray;flex-grow: 1;}#sk-container-id-1 div.sk-label:hover label.sk-toggleable__label {background-color: #d4ebff;}#sk-container-id-1 div.sk-serial::before {content: \"\";position: absolute;border-left: 1px solid gray;box-sizing: border-box;top: 0;bottom: 0;left: 50%;z-index: 0;}#sk-container-id-1 div.sk-serial {display: flex;flex-direction: column;align-items: center;background-color: white;padding-right: 0.2em;padding-left: 0.2em;position: relative;}#sk-container-id-1 div.sk-item {position: relative;z-index: 1;}#sk-container-id-1 div.sk-parallel {display: flex;align-items: stretch;justify-content: center;background-color: white;position: relative;}#sk-container-id-1 div.sk-item::before, #sk-container-id-1 div.sk-parallel-item::before {content: \"\";position: absolute;border-left: 1px solid gray;box-sizing: border-box;top: 0;bottom: 0;left: 50%;z-index: -1;}#sk-container-id-1 div.sk-parallel-item {display: flex;flex-direction: column;z-index: 1;position: relative;background-color: white;}#sk-container-id-1 div.sk-parallel-item:first-child::after {align-self: flex-end;width: 50%;}#sk-container-id-1 div.sk-parallel-item:last-child::after {align-self: flex-start;width: 50%;}#sk-container-id-1 div.sk-parallel-item:only-child::after {width: 0;}#sk-container-id-1 div.sk-dashed-wrapped {border: 1px dashed gray;margin: 0 0.4em 0.5em 0.4em;box-sizing: border-box;padding-bottom: 0.4em;background-color: white;}#sk-container-id-1 div.sk-label label {font-family: monospace;font-weight: bold;display: inline-block;line-height: 1.2em;}#sk-container-id-1 div.sk-label-container {text-align: center;}#sk-container-id-1 div.sk-container {/* jupyter's `normalize.less` sets `[hidden] { display: none; }` but bootstrap.min.css set `[hidden] { display: none !important; }` so we also need the `!important` here to be able to override the default hidden behavior on the sphinx rendered scikit-learn.org. See: https://github.com/scikit-learn/scikit-learn/issues/21755 */display: inline-block !important;position: relative;}#sk-container-id-1 div.sk-text-repr-fallback {display: none;}</style><div id=\"sk-container-id-1\" class=\"sk-top-container\"><div class=\"sk-text-repr-fallback\"><pre>LogisticRegression(class_weight=&#x27;balanced&#x27;)</pre><b>In a Jupyter environment, please rerun this cell to show the HTML representation or trust the notebook. <br />On GitHub, the HTML representation is unable to render, please try loading this page with nbviewer.org.</b></div><div class=\"sk-container\" hidden><div class=\"sk-item\"><div class=\"sk-estimator sk-toggleable\"><input class=\"sk-toggleable__control sk-hidden--visually\" id=\"sk-estimator-id-1\" type=\"checkbox\" checked><label for=\"sk-estimator-id-1\" class=\"sk-toggleable__label sk-toggleable__label-arrow\">LogisticRegression</label><div class=\"sk-toggleable__content\"><pre>LogisticRegression(class_weight=&#x27;balanced&#x27;)</pre></div></div></div></div></div>"
      ],
      "text/plain": [
       "LogisticRegression(class_weight='balanced')"
      ]
     },
     "execution_count": 25,
     "metadata": {},
     "output_type": "execute_result"
    }
   ],
   "source": [
    "logreg.fit(lf_train_x, lf_train_y)"
   ]
  },
  {
   "cell_type": "code",
   "execution_count": 26,
   "id": "26e4b6dd-5607-40a7-b0bf-0ab537bea5b0",
   "metadata": {},
   "outputs": [],
   "source": [
    "pred_logreg = logreg.predict(lf_test_x)"
   ]
  },
  {
   "cell_type": "code",
   "execution_count": 24,
   "id": "1f85873c-e21d-4fa0-bb56-d71e7a35683a",
   "metadata": {},
   "outputs": [],
   "source": [
    "from sklearn.metrics import confusion_matrix, accuracy_score, precision_score, recall_score, f1_score, roc_auc_score, roc_curve"
   ]
  },
  {
   "cell_type": "code",
   "execution_count": 28,
   "id": "118ab753-c7b4-44d1-9783-8192a03498a5",
   "metadata": {},
   "outputs": [
    {
     "data": {
      "text/plain": [
       "array([[47012, 34428],\n",
       "       [ 8973, 16073]], dtype=int64)"
      ]
     },
     "execution_count": 28,
     "metadata": {},
     "output_type": "execute_result"
    }
   ],
   "source": [
    "confusion_matrix(lf_test_y, pred_logreg)"
   ]
  },
  {
   "cell_type": "code",
   "execution_count": 29,
   "id": "92831c09-7cde-41ae-aa44-afb37e263e88",
   "metadata": {},
   "outputs": [
    {
     "data": {
      "text/plain": [
       "0.5924252953439889"
      ]
     },
     "execution_count": 29,
     "metadata": {},
     "output_type": "execute_result"
    }
   ],
   "source": [
    "accuracy_score(lf_test_y, pred_logreg)"
   ]
  },
  {
   "cell_type": "code",
   "execution_count": 30,
   "id": "a42a93ee-792c-4661-9b77-be24d4cd1644",
   "metadata": {},
   "outputs": [
    {
     "data": {
      "text/plain": [
       "0.31827092532821133"
      ]
     },
     "execution_count": 30,
     "metadata": {},
     "output_type": "execute_result"
    }
   ],
   "source": [
    "precision_score(lf_test_y, pred_logreg)"
   ]
  },
  {
   "cell_type": "code",
   "execution_count": 31,
   "id": "1c6db5b2-d49c-480d-8302-768af0216db6",
   "metadata": {
    "tags": []
   },
   "outputs": [
    {
     "data": {
      "text/plain": [
       "0.641739199872235"
      ]
     },
     "execution_count": 31,
     "metadata": {},
     "output_type": "execute_result"
    }
   ],
   "source": [
    "recall_score(lf_test_y, pred_logreg)"
   ]
  },
  {
   "cell_type": "code",
   "execution_count": 32,
   "id": "003a2b01-05e3-4640-83fa-9afd030cda35",
   "metadata": {},
   "outputs": [],
   "source": [
    "prob_logreg = logreg.predict_proba(lf_test_x)"
   ]
  },
  {
   "cell_type": "code",
   "execution_count": 33,
   "id": "c06e72b8-6013-4f30-a85d-76132ed2d60b",
   "metadata": {},
   "outputs": [],
   "source": [
    "tpr, fpr, threshold = roc_curve(lf_test_y, prob_logreg[:,1])"
   ]
  },
  {
   "cell_type": "code",
   "execution_count": 34,
   "id": "f6dbe06e-515a-4aa1-a58a-771f972f8a20",
   "metadata": {},
   "outputs": [],
   "source": [
    "import matplotlib.pyplot as plt"
   ]
  },
  {
   "cell_type": "code",
   "execution_count": 35,
   "id": "103b01cb-6e1e-4575-b6a9-63a843cb3577",
   "metadata": {},
   "outputs": [
    {
     "data": {
      "text/plain": [
       "Text(0, 0.5, 'tpr')"
      ]
     },
     "execution_count": 35,
     "metadata": {},
     "output_type": "execute_result"
    },
    {
     "data": {
      "image/png": "[encoded data removed]",
      "text/plain": [
       "<Figure size 640x480 with 1 Axes>"
      ]
     },
     "metadata": {},
     "output_type": "display_data"
    }
   ],
   "source": [
    "plt.plot(fpr, tpr)\n",
    "plt.xlabel(\"fpr\")\n",
    "plt.ylabel(\"tpr\")"
   ]
  },
  {
   "cell_type": "code",
   "execution_count": 36,
   "id": "475fe972-b567-40b9-a3d7-75ae1e0693bb",
   "metadata": {},
   "outputs": [],
   "source": [
    "roc_score_logreg = roc_auc_score(lf_test_y, pred_logreg)"
   ]
  },
  {
   "cell_type": "code",
   "execution_count": 37,
   "id": "0cb2cf88-802d-46f4-91c3-1e1d7b9b0e87",
   "metadata": {},
   "outputs": [
    {
     "data": {
      "text/plain": [
       "0.6094992659479054"
      ]
     },
     "execution_count": 37,
     "metadata": {},
     "output_type": "execute_result"
    }
   ],
   "source": [
    "roc_score_logreg"
   ]
  },
  {
   "cell_type": "code",
   "execution_count": 25,
   "id": "60452c0d-4366-4de9-abc6-9f69e87162de",
   "metadata": {},
   "outputs": [],
   "source": [
    "from sklearn.tree import DecisionTreeClassifier\n",
    "dt = DecisionTreeClassifier(class_weight=\"balanced\", criterion='entropy',\n",
    "                       max_depth=17, min_samples_split=80)"
   ]
  },
  {
   "cell_type": "code",
   "execution_count": 26,
   "id": "6d4027b4-2de3-4673-8b97-5cc66fff8039",
   "metadata": {},
   "outputs": [
    {
     "data": {
      "text/html": [
       "<style>#sk-container-id-1 {color: black;background-color: white;}#sk-container-id-1 pre{padding: 0;}#sk-container-id-1 div.sk-toggleable {background-color: white;}#sk-container-id-1 label.sk-toggleable__label {cursor: pointer;display: block;width: 100%;margin-bottom: 0;padding: 0.3em;box-sizing: border-box;text-align: center;}#sk-container-id-1 label.sk-toggleable__label-arrow:before {content: \"▸\";float: left;margin-right: 0.25em;color: #696969;}#sk-container-id-1 label.sk-toggleable__label-arrow:hover:before {color: black;}#sk-container-id-1 div.sk-estimator:hover label.sk-toggleable__label-arrow:before {color: black;}#sk-container-id-1 div.sk-toggleable__content {max-height: 0;max-width: 0;overflow: hidden;text-align: left;background-color: #f0f8ff;}#sk-container-id-1 div.sk-toggleable__content pre {margin: 0.2em;color: black;border-radius: 0.25em;background-color: #f0f8ff;}#sk-container-id-1 input.sk-toggleable__control:checked~div.sk-toggleable__content {max-height: 200px;max-width: 100%;overflow: auto;}#sk-container-id-1 input.sk-toggleable__control:checked~label.sk-toggleable__label-arrow:before {content: \"▾\";}#sk-container-id-1 div.sk-estimator input.sk-toggleable__control:checked~label.sk-toggleable__label {background-color: #d4ebff;}#sk-container-id-1 div.sk-label input.sk-toggleable__control:checked~label.sk-toggleable__label {background-color: #d4ebff;}#sk-container-id-1 input.sk-hidden--visually {border: 0;clip: rect(1px 1px 1px 1px);clip: rect(1px, 1px, 1px, 1px);height: 1px;margin: -1px;overflow: hidden;padding: 0;position: absolute;width: 1px;}#sk-container-id-1 div.sk-estimator {font-family: monospace;background-color: #f0f8ff;border: 1px dotted black;border-radius: 0.25em;box-sizing: border-box;margin-bottom: 0.5em;}#sk-container-id-1 div.sk-estimator:hover {background-color: #d4ebff;}#sk-container-id-1 div.sk-parallel-item::after {content: \"\";width: 100%;border-bottom: 1px solid gray;flex-grow: 1;}#sk-container-id-1 div.sk-label:hover label.sk-toggleable__label {background-color: #d4ebff;}#sk-container-id-1 div.sk-serial::before {content: \"\";position: absolute;border-left: 1px solid gray;box-sizing: border-box;top: 0;bottom: 0;left: 50%;z-index: 0;}#sk-container-id-1 div.sk-serial {display: flex;flex-direction: column;align-items: center;background-color: white;padding-right: 0.2em;padding-left: 0.2em;position: relative;}#sk-container-id-1 div.sk-item {position: relative;z-index: 1;}#sk-container-id-1 div.sk-parallel {display: flex;align-items: stretch;justify-content: center;background-color: white;position: relative;}#sk-container-id-1 div.sk-item::before, #sk-container-id-1 div.sk-parallel-item::before {content: \"\";position: absolute;border-left: 1px solid gray;box-sizing: border-box;top: 0;bottom: 0;left: 50%;z-index: -1;}#sk-container-id-1 div.sk-parallel-item {display: flex;flex-direction: column;z-index: 1;position: relative;background-color: white;}#sk-container-id-1 div.sk-parallel-item:first-child::after {align-self: flex-end;width: 50%;}#sk-container-id-1 div.sk-parallel-item:last-child::after {align-self: flex-start;width: 50%;}#sk-container-id-1 div.sk-parallel-item:only-child::after {width: 0;}#sk-container-id-1 div.sk-dashed-wrapped {border: 1px dashed gray;margin: 0 0.4em 0.5em 0.4em;box-sizing: border-box;padding-bottom: 0.4em;background-color: white;}#sk-container-id-1 div.sk-label label {font-family: monospace;font-weight: bold;display: inline-block;line-height: 1.2em;}#sk-container-id-1 div.sk-label-container {text-align: center;}#sk-container-id-1 div.sk-container {/* jupyter's `normalize.less` sets `[hidden] { display: none; }` but bootstrap.min.css set `[hidden] { display: none !important; }` so we also need the `!important` here to be able to override the default hidden behavior on the sphinx rendered scikit-learn.org. See: https://github.com/scikit-learn/scikit-learn/issues/21755 */display: inline-block !important;position: relative;}#sk-container-id-1 div.sk-text-repr-fallback {display: none;}</style><div id=\"sk-container-id-1\" class=\"sk-top-container\"><div class=\"sk-text-repr-fallback\"><pre>DecisionTreeClassifier(class_weight=&#x27;balanced&#x27;, criterion=&#x27;entropy&#x27;,\n",
       "                       max_depth=17, min_samples_split=80)</pre><b>In a Jupyter environment, please rerun this cell to show the HTML representation or trust the notebook. <br />On GitHub, the HTML representation is unable to render, please try loading this page with nbviewer.org.</b></div><div class=\"sk-container\" hidden><div class=\"sk-item\"><div class=\"sk-estimator sk-toggleable\"><input class=\"sk-toggleable__control sk-hidden--visually\" id=\"sk-estimator-id-1\" type=\"checkbox\" checked><label for=\"sk-estimator-id-1\" class=\"sk-toggleable__label sk-toggleable__label-arrow\">DecisionTreeClassifier</label><div class=\"sk-toggleable__content\"><pre>DecisionTreeClassifier(class_weight=&#x27;balanced&#x27;, criterion=&#x27;entropy&#x27;,\n",
       "                       max_depth=17, min_samples_split=80)</pre></div></div></div></div></div>"
      ],
      "text/plain": [
       "DecisionTreeClassifier(class_weight='balanced', criterion='entropy',\n",
       "                       max_depth=17, min_samples_split=80)"
      ]
     },
     "execution_count": 26,
     "metadata": {},
     "output_type": "execute_result"
    }
   ],
   "source": [
    "dt.fit(lf_train_x, lf_train_y)"
   ]
  },
  {
   "cell_type": "code",
   "execution_count": 40,
   "id": "49c272c8-80b0-4b12-b4b7-c8412bc604e1",
   "metadata": {},
   "outputs": [],
   "source": [
    "# dict = {\"criterion\":[\"gini\", \"entropy\"],\n",
    "#         \"max_depth\":range(10,20), \n",
    "#         \"min_samples_split\" : range(20,100, 20)}"
   ]
  },
  {
   "cell_type": "code",
   "execution_count": 41,
   "id": "6cd5d355-c806-4c01-8f68-e9e6f5cd8f26",
   "metadata": {},
   "outputs": [],
   "source": [
    "# dt_best = GridSearchCV(dt, param_grid=dict)"
   ]
  },
  {
   "cell_type": "code",
   "execution_count": 42,
   "id": "2d3ffb60-8ce3-49ba-91ef-2fd393ea03d1",
   "metadata": {},
   "outputs": [],
   "source": [
    "# dt_best.fit(lf_train_x, lf_train_y)"
   ]
  },
  {
   "cell_type": "code",
   "execution_count": 43,
   "id": "544ce7c1-0042-4a51-acf3-362f6d7b042b",
   "metadata": {},
   "outputs": [],
   "source": [
    "# dt_best.best_estimator_"
   ]
  },
  {
   "cell_type": "code",
   "execution_count": 44,
   "id": "2f9f9152-e393-4631-bbaf-ebc2e7ff3b32",
   "metadata": {},
   "outputs": [],
   "source": [
    "pred_dt = dt.predict(lf_test_x)"
   ]
  },
  {
   "cell_type": "code",
   "execution_count": 45,
   "id": "82ae2d5c-7789-44c2-8a0e-3d00e172f850",
   "metadata": {},
   "outputs": [
    {
     "data": {
      "text/plain": [
       "array([[69754, 11686],\n",
       "       [ 7073, 17973]], dtype=int64)"
      ]
     },
     "execution_count": 45,
     "metadata": {},
     "output_type": "execute_result"
    }
   ],
   "source": [
    "confusion_matrix(lf_test_y, pred_dt)"
   ]
  },
  {
   "cell_type": "code",
   "execution_count": 46,
   "id": "bf1b2a10-c708-433a-8ce4-977ddc0ab5fc",
   "metadata": {},
   "outputs": [
    {
     "data": {
      "text/plain": [
       "0.8238359972202919"
      ]
     },
     "execution_count": 46,
     "metadata": {},
     "output_type": "execute_result"
    }
   ],
   "source": [
    "accuracy_score(lf_test_y, pred_dt)"
   ]
  },
  {
   "cell_type": "code",
   "execution_count": 47,
   "id": "e351e2a3-47d3-4ff3-87e6-e82eb787a6aa",
   "metadata": {},
   "outputs": [
    {
     "data": {
      "text/plain": [
       "0.6059880643312316"
      ]
     },
     "execution_count": 47,
     "metadata": {},
     "output_type": "execute_result"
    }
   ],
   "source": [
    "precision_score(lf_test_y, pred_dt)"
   ]
  },
  {
   "cell_type": "code",
   "execution_count": 48,
   "id": "bf0f95de-779a-4019-b182-805d161c4d2c",
   "metadata": {},
   "outputs": [
    {
     "data": {
      "text/plain": [
       "0.7175996167052623"
      ]
     },
     "execution_count": 48,
     "metadata": {},
     "output_type": "execute_result"
    }
   ],
   "source": [
    "recall_score(lf_test_y, pred_dt)"
   ]
  },
  {
   "cell_type": "code",
   "execution_count": 49,
   "id": "ff776372-6d75-4555-af19-0f5481a337b0",
   "metadata": {},
   "outputs": [
    {
     "data": {
      "text/plain": [
       "0.7870537376257156"
      ]
     },
     "execution_count": 49,
     "metadata": {},
     "output_type": "execute_result"
    }
   ],
   "source": [
    "roc_auc_score(lf_test_y, pred_dt)"
   ]
  },
  {
   "cell_type": "code",
   "execution_count": null,
   "id": "f8c8ca55-f983-4f60-99f0-0954e34e5905",
   "metadata": {},
   "outputs": [],
   "source": []
  },
  {
   "cell_type": "code",
   "execution_count": 27,
   "id": "6a95e1ee-a59e-4c4f-b832-f23e7f425e99",
   "metadata": {},
   "outputs": [],
   "source": [
    "from sklearn.ensemble import AdaBoostClassifier\n",
    "abc_dt = AdaBoostClassifier(dt, n_estimators=5)"
   ]
  },
  {
   "cell_type": "code",
   "execution_count": 51,
   "id": "bdf60dad-c717-42c5-be7a-55903dd53fec",
   "metadata": {},
   "outputs": [
    {
     "data": {
      "text/html": [
       "<style>#sk-container-id-3 {color: black;background-color: white;}#sk-container-id-3 pre{padding: 0;}#sk-container-id-3 div.sk-toggleable {background-color: white;}#sk-container-id-3 label.sk-toggleable__label {cursor: pointer;display: block;width: 100%;margin-bottom: 0;padding: 0.3em;box-sizing: border-box;text-align: center;}#sk-container-id-3 label.sk-toggleable__label-arrow:before {content: \"▸\";float: left;margin-right: 0.25em;color: #696969;}#sk-container-id-3 label.sk-toggleable__label-arrow:hover:before {color: black;}#sk-container-id-3 div.sk-estimator:hover label.sk-toggleable__label-arrow:before {color: black;}#sk-container-id-3 div.sk-toggleable__content {max-height: 0;max-width: 0;overflow: hidden;text-align: left;background-color: #f0f8ff;}#sk-container-id-3 div.sk-toggleable__content pre {margin: 0.2em;color: black;border-radius: 0.25em;background-color: #f0f8ff;}#sk-container-id-3 input.sk-toggleable__control:checked~div.sk-toggleable__content {max-height: 200px;max-width: 100%;overflow: auto;}#sk-container-id-3 input.sk-toggleable__control:checked~label.sk-toggleable__label-arrow:before {content: \"▾\";}#sk-container-id-3 div.sk-estimator input.sk-toggleable__control:checked~label.sk-toggleable__label {background-color: #d4ebff;}#sk-container-id-3 div.sk-label input.sk-toggleable__control:checked~label.sk-toggleable__label {background-color: #d4ebff;}#sk-container-id-3 input.sk-hidden--visually {border: 0;clip: rect(1px 1px 1px 1px);clip: rect(1px, 1px, 1px, 1px);height: 1px;margin: -1px;overflow: hidden;padding: 0;position: absolute;width: 1px;}#sk-container-id-3 div.sk-estimator {font-family: monospace;background-color: #f0f8ff;border: 1px dotted black;border-radius: 0.25em;box-sizing: border-box;margin-bottom: 0.5em;}#sk-container-id-3 div.sk-estimator:hover {background-color: #d4ebff;}#sk-container-id-3 div.sk-parallel-item::after {content: \"\";width: 100%;border-bottom: 1px solid gray;flex-grow: 1;}#sk-container-id-3 div.sk-label:hover label.sk-toggleable__label {background-color: #d4ebff;}#sk-container-id-3 div.sk-serial::before {content: \"\";position: absolute;border-left: 1px solid gray;box-sizing: border-box;top: 0;bottom: 0;left: 50%;z-index: 0;}#sk-container-id-3 div.sk-serial {display: flex;flex-direction: column;align-items: center;background-color: white;padding-right: 0.2em;padding-left: 0.2em;position: relative;}#sk-container-id-3 div.sk-item {position: relative;z-index: 1;}#sk-container-id-3 div.sk-parallel {display: flex;align-items: stretch;justify-content: center;background-color: white;position: relative;}#sk-container-id-3 div.sk-item::before, #sk-container-id-3 div.sk-parallel-item::before {content: \"\";position: absolute;border-left: 1px solid gray;box-sizing: border-box;top: 0;bottom: 0;left: 50%;z-index: -1;}#sk-container-id-3 div.sk-parallel-item {display: flex;flex-direction: column;z-index: 1;position: relative;background-color: white;}#sk-container-id-3 div.sk-parallel-item:first-child::after {align-self: flex-end;width: 50%;}#sk-container-id-3 div.sk-parallel-item:last-child::after {align-self: flex-start;width: 50%;}#sk-container-id-3 div.sk-parallel-item:only-child::after {width: 0;}#sk-container-id-3 div.sk-dashed-wrapped {border: 1px dashed gray;margin: 0 0.4em 0.5em 0.4em;box-sizing: border-box;padding-bottom: 0.4em;background-color: white;}#sk-container-id-3 div.sk-label label {font-family: monospace;font-weight: bold;display: inline-block;line-height: 1.2em;}#sk-container-id-3 div.sk-label-container {text-align: center;}#sk-container-id-3 div.sk-container {/* jupyter's `normalize.less` sets `[hidden] { display: none; }` but bootstrap.min.css set `[hidden] { display: none !important; }` so we also need the `!important` here to be able to override the default hidden behavior on the sphinx rendered scikit-learn.org. See: https://github.com/scikit-learn/scikit-learn/issues/21755 */display: inline-block !important;position: relative;}#sk-container-id-3 div.sk-text-repr-fallback {display: none;}</style><div id=\"sk-container-id-3\" class=\"sk-top-container\"><div class=\"sk-text-repr-fallback\"><pre>AdaBoostClassifier(estimator=DecisionTreeClassifier(class_weight=&#x27;balanced&#x27;,\n",
       "                                                    criterion=&#x27;entropy&#x27;,\n",
       "                                                    max_depth=17,\n",
       "                                                    min_samples_split=80),\n",
       "                   n_estimators=5)</pre><b>In a Jupyter environment, please rerun this cell to show the HTML representation or trust the notebook. <br />On GitHub, the HTML representation is unable to render, please try loading this page with nbviewer.org.</b></div><div class=\"sk-container\" hidden><div class=\"sk-item sk-dashed-wrapped\"><div class=\"sk-label-container\"><div class=\"sk-label sk-toggleable\"><input class=\"sk-toggleable__control sk-hidden--visually\" id=\"sk-estimator-id-3\" type=\"checkbox\" ><label for=\"sk-estimator-id-3\" class=\"sk-toggleable__label sk-toggleable__label-arrow\">AdaBoostClassifier</label><div class=\"sk-toggleable__content\"><pre>AdaBoostClassifier(estimator=DecisionTreeClassifier(class_weight=&#x27;balanced&#x27;,\n",
       "                                                    criterion=&#x27;entropy&#x27;,\n",
       "                                                    max_depth=17,\n",
       "                                                    min_samples_split=80),\n",
       "                   n_estimators=5)</pre></div></div></div><div class=\"sk-parallel\"><div class=\"sk-parallel-item\"><div class=\"sk-item\"><div class=\"sk-label-container\"><div class=\"sk-label sk-toggleable\"><input class=\"sk-toggleable__control sk-hidden--visually\" id=\"sk-estimator-id-4\" type=\"checkbox\" ><label for=\"sk-estimator-id-4\" class=\"sk-toggleable__label sk-toggleable__label-arrow\">estimator: DecisionTreeClassifier</label><div class=\"sk-toggleable__content\"><pre>DecisionTreeClassifier(class_weight=&#x27;balanced&#x27;, criterion=&#x27;entropy&#x27;,\n",
       "                       max_depth=17, min_samples_split=80)</pre></div></div></div><div class=\"sk-serial\"><div class=\"sk-item\"><div class=\"sk-estimator sk-toggleable\"><input class=\"sk-toggleable__control sk-hidden--visually\" id=\"sk-estimator-id-5\" type=\"checkbox\" ><label for=\"sk-estimator-id-5\" class=\"sk-toggleable__label sk-toggleable__label-arrow\">DecisionTreeClassifier</label><div class=\"sk-toggleable__content\"><pre>DecisionTreeClassifier(class_weight=&#x27;balanced&#x27;, criterion=&#x27;entropy&#x27;,\n",
       "                       max_depth=17, min_samples_split=80)</pre></div></div></div></div></div></div></div></div></div></div>"
      ],
      "text/plain": [
       "AdaBoostClassifier(estimator=DecisionTreeClassifier(class_weight='balanced',\n",
       "                                                    criterion='entropy',\n",
       "                                                    max_depth=17,\n",
       "                                                    min_samples_split=80),\n",
       "                   n_estimators=5)"
      ]
     },
     "execution_count": 51,
     "metadata": {},
     "output_type": "execute_result"
    }
   ],
   "source": [
    "abc_dt.fit(lf_train_x, lf_train_y)"
   ]
  },
  {
   "cell_type": "code",
   "execution_count": 52,
   "id": "8581e802-46ac-4de2-b8b4-2fefe790d2a1",
   "metadata": {},
   "outputs": [],
   "source": [
    "pred_abc = abc_dt.predict(lf_test_x)"
   ]
  },
  {
   "cell_type": "code",
   "execution_count": 53,
   "id": "0ea8bb3f-7289-4b39-86b0-aff13d4387fc",
   "metadata": {},
   "outputs": [
    {
     "data": {
      "text/plain": [
       "array([[72618,  8822],\n",
       "       [ 6218, 18828]], dtype=int64)"
      ]
     },
     "execution_count": 53,
     "metadata": {},
     "output_type": "execute_result"
    }
   ],
   "source": [
    "confusion_matrix(lf_test_y, pred_abc)"
   ]
  },
  {
   "cell_type": "code",
   "execution_count": 54,
   "id": "f6563ebf-7e71-4d2d-aee0-956ff0ea9d68",
   "metadata": {},
   "outputs": [
    {
     "data": {
      "text/plain": [
       "0.8587607760644592"
      ]
     },
     "execution_count": 54,
     "metadata": {},
     "output_type": "execute_result"
    }
   ],
   "source": [
    "accuracy_score(lf_test_y, pred_abc)"
   ]
  },
  {
   "cell_type": "code",
   "execution_count": 55,
   "id": "e3282c0f-38a2-4740-9c8a-34a7fbe38128",
   "metadata": {},
   "outputs": [
    {
     "data": {
      "text/plain": [
       "0.7517368042801246"
      ]
     },
     "execution_count": 55,
     "metadata": {},
     "output_type": "execute_result"
    }
   ],
   "source": [
    "recall_score(lf_test_y, pred_abc)"
   ]
  },
  {
   "cell_type": "code",
   "execution_count": 56,
   "id": "5b93431f-ec63-47ac-a449-4bd5dc78e5ef",
   "metadata": {},
   "outputs": [
    {
     "data": {
      "text/plain": [
       "0.8217058284661919"
      ]
     },
     "execution_count": 56,
     "metadata": {},
     "output_type": "execute_result"
    }
   ],
   "source": [
    "roc_auc_score(lf_test_y, pred_abc)"
   ]
  },
  {
   "cell_type": "code",
   "execution_count": 59,
   "id": "ae627a69-783e-44bd-8b91-51c237b60293",
   "metadata": {},
   "outputs": [],
   "source": [
    "# now let's train the dataset on whole data to get solutions"
   ]
  },
  {
   "cell_type": "code",
   "execution_count": 60,
   "id": "1211a11f-3d61-4100-ba55-b888e9545821",
   "metadata": {},
   "outputs": [],
   "source": [
    "df_new = df_train.iloc[:, 0:-1]\n",
    "df_y = df_train.iloc[:, -1]"
   ]
  },
  {
   "cell_type": "code",
   "execution_count": 61,
   "id": "1aa2181a-73d6-4102-9987-f661a96c47a7",
   "metadata": {},
   "outputs": [
    {
     "data": {
      "text/html": [
       "<style>#sk-container-id-4 {color: black;background-color: white;}#sk-container-id-4 pre{padding: 0;}#sk-container-id-4 div.sk-toggleable {background-color: white;}#sk-container-id-4 label.sk-toggleable__label {cursor: pointer;display: block;width: 100%;margin-bottom: 0;padding: 0.3em;box-sizing: border-box;text-align: center;}#sk-container-id-4 label.sk-toggleable__label-arrow:before {content: \"▸\";float: left;margin-right: 0.25em;color: #696969;}#sk-container-id-4 label.sk-toggleable__label-arrow:hover:before {color: black;}#sk-container-id-4 div.sk-estimator:hover label.sk-toggleable__label-arrow:before {color: black;}#sk-container-id-4 div.sk-toggleable__content {max-height: 0;max-width: 0;overflow: hidden;text-align: left;background-color: #f0f8ff;}#sk-container-id-4 div.sk-toggleable__content pre {margin: 0.2em;color: black;border-radius: 0.25em;background-color: #f0f8ff;}#sk-container-id-4 input.sk-toggleable__control:checked~div.sk-toggleable__content {max-height: 200px;max-width: 100%;overflow: auto;}#sk-container-id-4 input.sk-toggleable__control:checked~label.sk-toggleable__label-arrow:before {content: \"▾\";}#sk-container-id-4 div.sk-estimator input.sk-toggleable__control:checked~label.sk-toggleable__label {background-color: #d4ebff;}#sk-container-id-4 div.sk-label input.sk-toggleable__control:checked~label.sk-toggleable__label {background-color: #d4ebff;}#sk-container-id-4 input.sk-hidden--visually {border: 0;clip: rect(1px 1px 1px 1px);clip: rect(1px, 1px, 1px, 1px);height: 1px;margin: -1px;overflow: hidden;padding: 0;position: absolute;width: 1px;}#sk-container-id-4 div.sk-estimator {font-family: monospace;background-color: #f0f8ff;border: 1px dotted black;border-radius: 0.25em;box-sizing: border-box;margin-bottom: 0.5em;}#sk-container-id-4 div.sk-estimator:hover {background-color: #d4ebff;}#sk-container-id-4 div.sk-parallel-item::after {content: \"\";width: 100%;border-bottom: 1px solid gray;flex-grow: 1;}#sk-container-id-4 div.sk-label:hover label.sk-toggleable__label {background-color: #d4ebff;}#sk-container-id-4 div.sk-serial::before {content: \"\";position: absolute;border-left: 1px solid gray;box-sizing: border-box;top: 0;bottom: 0;left: 50%;z-index: 0;}#sk-container-id-4 div.sk-serial {display: flex;flex-direction: column;align-items: center;background-color: white;padding-right: 0.2em;padding-left: 0.2em;position: relative;}#sk-container-id-4 div.sk-item {position: relative;z-index: 1;}#sk-container-id-4 div.sk-parallel {display: flex;align-items: stretch;justify-content: center;background-color: white;position: relative;}#sk-container-id-4 div.sk-item::before, #sk-container-id-4 div.sk-parallel-item::before {content: \"\";position: absolute;border-left: 1px solid gray;box-sizing: border-box;top: 0;bottom: 0;left: 50%;z-index: -1;}#sk-container-id-4 div.sk-parallel-item {display: flex;flex-direction: column;z-index: 1;position: relative;background-color: white;}#sk-container-id-4 div.sk-parallel-item:first-child::after {align-self: flex-end;width: 50%;}#sk-container-id-4 div.sk-parallel-item:last-child::after {align-self: flex-start;width: 50%;}#sk-container-id-4 div.sk-parallel-item:only-child::after {width: 0;}#sk-container-id-4 div.sk-dashed-wrapped {border: 1px dashed gray;margin: 0 0.4em 0.5em 0.4em;box-sizing: border-box;padding-bottom: 0.4em;background-color: white;}#sk-container-id-4 div.sk-label label {font-family: monospace;font-weight: bold;display: inline-block;line-height: 1.2em;}#sk-container-id-4 div.sk-label-container {text-align: center;}#sk-container-id-4 div.sk-container {/* jupyter's `normalize.less` sets `[hidden] { display: none; }` but bootstrap.min.css set `[hidden] { display: none !important; }` so we also need the `!important` here to be able to override the default hidden behavior on the sphinx rendered scikit-learn.org. See: https://github.com/scikit-learn/scikit-learn/issues/21755 */display: inline-block !important;position: relative;}#sk-container-id-4 div.sk-text-repr-fallback {display: none;}</style><div id=\"sk-container-id-4\" class=\"sk-top-container\"><div class=\"sk-text-repr-fallback\"><pre>AdaBoostClassifier(estimator=DecisionTreeClassifier(class_weight=&#x27;balanced&#x27;,\n",
       "                                                    criterion=&#x27;entropy&#x27;,\n",
       "                                                    max_depth=17,\n",
       "                                                    min_samples_split=80),\n",
       "                   n_estimators=5)</pre><b>In a Jupyter environment, please rerun this cell to show the HTML representation or trust the notebook. <br />On GitHub, the HTML representation is unable to render, please try loading this page with nbviewer.org.</b></div><div class=\"sk-container\" hidden><div class=\"sk-item sk-dashed-wrapped\"><div class=\"sk-label-container\"><div class=\"sk-label sk-toggleable\"><input class=\"sk-toggleable__control sk-hidden--visually\" id=\"sk-estimator-id-6\" type=\"checkbox\" ><label for=\"sk-estimator-id-6\" class=\"sk-toggleable__label sk-toggleable__label-arrow\">AdaBoostClassifier</label><div class=\"sk-toggleable__content\"><pre>AdaBoostClassifier(estimator=DecisionTreeClassifier(class_weight=&#x27;balanced&#x27;,\n",
       "                                                    criterion=&#x27;entropy&#x27;,\n",
       "                                                    max_depth=17,\n",
       "                                                    min_samples_split=80),\n",
       "                   n_estimators=5)</pre></div></div></div><div class=\"sk-parallel\"><div class=\"sk-parallel-item\"><div class=\"sk-item\"><div class=\"sk-label-container\"><div class=\"sk-label sk-toggleable\"><input class=\"sk-toggleable__control sk-hidden--visually\" id=\"sk-estimator-id-7\" type=\"checkbox\" ><label for=\"sk-estimator-id-7\" class=\"sk-toggleable__label sk-toggleable__label-arrow\">estimator: DecisionTreeClassifier</label><div class=\"sk-toggleable__content\"><pre>DecisionTreeClassifier(class_weight=&#x27;balanced&#x27;, criterion=&#x27;entropy&#x27;,\n",
       "                       max_depth=17, min_samples_split=80)</pre></div></div></div><div class=\"sk-serial\"><div class=\"sk-item\"><div class=\"sk-estimator sk-toggleable\"><input class=\"sk-toggleable__control sk-hidden--visually\" id=\"sk-estimator-id-8\" type=\"checkbox\" ><label for=\"sk-estimator-id-8\" class=\"sk-toggleable__label sk-toggleable__label-arrow\">DecisionTreeClassifier</label><div class=\"sk-toggleable__content\"><pre>DecisionTreeClassifier(class_weight=&#x27;balanced&#x27;, criterion=&#x27;entropy&#x27;,\n",
       "                       max_depth=17, min_samples_split=80)</pre></div></div></div></div></div></div></div></div></div></div>"
      ],
      "text/plain": [
       "AdaBoostClassifier(estimator=DecisionTreeClassifier(class_weight='balanced',\n",
       "                                                    criterion='entropy',\n",
       "                                                    max_depth=17,\n",
       "                                                    min_samples_split=80),\n",
       "                   n_estimators=5)"
      ]
     },
     "execution_count": 61,
     "metadata": {},
     "output_type": "execute_result"
    }
   ],
   "source": [
    "abc_dt.fit(df_new, df_y)"
   ]
  },
  {
   "cell_type": "code",
   "execution_count": 62,
   "id": "0e550201-d481-48af-940b-043a30926207",
   "metadata": {},
   "outputs": [],
   "source": [
    "pred_result = abc_dt.predict(df_test)"
   ]
  },
  {
   "cell_type": "code",
   "execution_count": 63,
   "id": "8b2a774c-daf5-4a0d-9ae8-74dfc9742332",
   "metadata": {},
   "outputs": [
    {
     "data": {
      "text/plain": [
       "array([0., 0., 0., ..., 0., 0., 1.])"
      ]
     },
     "execution_count": 63,
     "metadata": {},
     "output_type": "execute_result"
    }
   ],
   "source": [
    "pred_result"
   ]
  },
  {
   "cell_type": "code",
   "execution_count": 64,
   "id": "29bc1eef-455a-4981-8f3d-2216cde956da",
   "metadata": {},
   "outputs": [
    {
     "data": {
      "text/plain": [
       "Index(['loan_amnt', 'funded_amnt', 'funded_amnt_inv', 'term', 'int_rate',\n",
       "       'grade', 'sub_grade', 'emp_length', 'home_ownership', 'annual_inc',\n",
       "       'verification_status', 'pymnt_plan', 'purpose', 'title', 'zip_code',\n",
       "       'addr_state', 'dti', 'delinq_2yrs', 'inq_last_6mths', 'open_acc',\n",
       "       'pub_rec', 'revol_bal', 'revol_util', 'total_acc',\n",
       "       'initial_list_status', 'total_rec_int', 'total_rec_late_fee',\n",
       "       'recoveries', 'collection_recovery_fee', 'collections_12_mths_ex_med',\n",
       "       'application_type', 'last_week_pay', 'acc_now_delinq', 'tot_coll_amt',\n",
       "       'tot_cur_bal', 'total_rev_hi_lim'],\n",
       "      dtype='object')"
      ]
     },
     "execution_count": 64,
     "metadata": {},
     "output_type": "execute_result"
    }
   ],
   "source": [
    "df_test.columns"
   ]
  },
  {
   "cell_type": "code",
   "execution_count": 65,
   "id": "d70a607f-9f3b-4c2b-a2d4-65b0955642b8",
   "metadata": {},
   "outputs": [],
   "source": [
    "test = pd.read_csv(\"test_indessa.csv\")"
   ]
  },
  {
   "cell_type": "code",
   "execution_count": 66,
   "id": "bbf5991d-93fa-4b06-8801-6ac68bf4ae22",
   "metadata": {},
   "outputs": [
    {
     "data": {
      "text/plain": [
       "Index(['member_id', 'loan_amnt', 'funded_amnt', 'funded_amnt_inv', 'term',\n",
       "       'batch_enrolled', 'int_rate', 'grade', 'sub_grade', 'emp_title',\n",
       "       'emp_length', 'home_ownership', 'annual_inc', 'verification_status',\n",
       "       'pymnt_plan', 'desc', 'purpose', 'title', 'zip_code', 'addr_state',\n",
       "       'dti', 'delinq_2yrs', 'inq_last_6mths', 'mths_since_last_delinq',\n",
       "       'mths_since_last_record', 'open_acc', 'pub_rec', 'revol_bal',\n",
       "       'revol_util', 'total_acc', 'initial_list_status', 'total_rec_int',\n",
       "       'total_rec_late_fee', 'recoveries', 'collection_recovery_fee',\n",
       "       'collections_12_mths_ex_med', 'mths_since_last_major_derog',\n",
       "       'application_type', 'verification_status_joint', 'last_week_pay',\n",
       "       'acc_now_delinq', 'tot_coll_amt', 'tot_cur_bal', 'total_rev_hi_lim'],\n",
       "      dtype='object')"
      ]
     },
     "execution_count": 66,
     "metadata": {},
     "output_type": "execute_result"
    }
   ],
   "source": [
    "test.columns"
   ]
  },
  {
   "cell_type": "code",
   "execution_count": 67,
   "id": "01ffac2e-b588-42df-89d6-8d55d8238f05",
   "metadata": {},
   "outputs": [],
   "source": [
    "solution = pd.DataFrame()"
   ]
  },
  {
   "cell_type": "code",
   "execution_count": 68,
   "id": "bdd3265b-dd42-43b3-a61b-781c30a93f18",
   "metadata": {},
   "outputs": [],
   "source": [
    "solution[\"member_id\"] = test.member_id\n",
    "solution[\"loan_status\"] = pred_result"
   ]
  },
  {
   "cell_type": "markdown",
   "id": "8a21e9a1-d5ca-4350-9cc8-ef53ef5032c1",
   "metadata": {},
   "source": [
    "### solution"
   ]
  },
  {
   "cell_type": "code",
   "execution_count": 70,
   "id": "8d06d2cf-ce42-443a-bfb9-03603048cbea",
   "metadata": {},
   "outputs": [],
   "source": [
    "solution.to_csv(\"solution.csv\", index = False)"
   ]
  },
  {
   "cell_type": "code",
   "execution_count": null,
   "id": "aa9fe1ce-f243-417b-ae97-ee78d1cf1b8d",
   "metadata": {},
   "outputs": [],
   "source": []
  },
  {
   "cell_type": "code",
   "execution_count": 29,
   "id": "59155792-8784-4b4d-94b5-029b231aca76",
   "metadata": {},
   "outputs": [],
   "source": [
    "data = df_train.iloc[:, 0:-1]"
   ]
  },
  {
   "cell_type": "code",
   "execution_count": 30,
   "id": "c0d31720-8b26-4661-b766-a3ecb50f4edd",
   "metadata": {},
   "outputs": [],
   "source": [
    "from sklearn.preprocessing import StandardScaler\n",
    "from sklearn import decomposition\n",
    "from sklearn.decomposition import PCA"
   ]
  },
  {
   "cell_type": "code",
   "execution_count": 31,
   "id": "c0b9f7b1-24f6-4910-86bd-9fbb3ad5675d",
   "metadata": {
    "tags": []
   },
   "outputs": [],
   "source": [
    "scaler = StandardScaler()"
   ]
  },
  {
   "cell_type": "code",
   "execution_count": 32,
   "id": "739c8dbb-f8b1-46f5-ac51-774e4369d414",
   "metadata": {},
   "outputs": [],
   "source": [
    "scaller_x = scaler.fit_transform(data)"
   ]
  },
  {
   "cell_type": "code",
   "execution_count": 33,
   "id": "f44bbcb1-7f33-463a-bd00-7bce8e6d6ca9",
   "metadata": {},
   "outputs": [],
   "source": [
    "pca = PCA()"
   ]
  },
  {
   "cell_type": "code",
   "execution_count": 34,
   "id": "cb503e2a-8b46-49b6-ba44-59058de1e3d6",
   "metadata": {},
   "outputs": [],
   "source": [
    "x_pca = pca.fit_transform(scaller_x)"
   ]
  },
  {
   "cell_type": "code",
   "execution_count": 35,
   "id": "0261c8a6-c771-4b74-b26f-5be74dee91a3",
   "metadata": {},
   "outputs": [
    {
     "data": {
      "text/plain": [
       "(532427, 36)"
      ]
     },
     "execution_count": 35,
     "metadata": {},
     "output_type": "execute_result"
    }
   ],
   "source": [
    "x_pca.shape"
   ]
  },
  {
   "cell_type": "code",
   "execution_count": 36,
   "id": "0ec4b1a7-8753-416b-b2be-148fe8ab15d4",
   "metadata": {},
   "outputs": [
    {
     "data": {
      "text/plain": [
       "0.9984073751953764"
      ]
     },
     "execution_count": 36,
     "metadata": {},
     "output_type": "execute_result"
    }
   ],
   "source": [
    "pca.explained_variance_ratio_[0:32].sum()"
   ]
  },
  {
   "cell_type": "code",
   "execution_count": 37,
   "id": "0882bf61-dd66-4664-979f-0a89bb944145",
   "metadata": {},
   "outputs": [],
   "source": [
    "df1 = pd.DataFrame(x_pca)"
   ]
  },
  {
   "cell_type": "code",
   "execution_count": 38,
   "id": "f89c9dba-cf29-4287-a28a-a457685b04bb",
   "metadata": {},
   "outputs": [],
   "source": [
    "data_train_x, data_test_x, data_train_y, data_test_y = train_test_split(df1, df_train.iloc[:, -1], test_size=.2)"
   ]
  },
  {
   "cell_type": "code",
   "execution_count": 39,
   "id": "45d4b41c-f5a3-404c-b717-76823043b5c1",
   "metadata": {},
   "outputs": [
    {
     "data": {
      "text/html": [
       "<style>#sk-container-id-2 {color: black;background-color: white;}#sk-container-id-2 pre{padding: 0;}#sk-container-id-2 div.sk-toggleable {background-color: white;}#sk-container-id-2 label.sk-toggleable__label {cursor: pointer;display: block;width: 100%;margin-bottom: 0;padding: 0.3em;box-sizing: border-box;text-align: center;}#sk-container-id-2 label.sk-toggleable__label-arrow:before {content: \"▸\";float: left;margin-right: 0.25em;color: #696969;}#sk-container-id-2 label.sk-toggleable__label-arrow:hover:before {color: black;}#sk-container-id-2 div.sk-estimator:hover label.sk-toggleable__label-arrow:before {color: black;}#sk-container-id-2 div.sk-toggleable__content {max-height: 0;max-width: 0;overflow: hidden;text-align: left;background-color: #f0f8ff;}#sk-container-id-2 div.sk-toggleable__content pre {margin: 0.2em;color: black;border-radius: 0.25em;background-color: #f0f8ff;}#sk-container-id-2 input.sk-toggleable__control:checked~div.sk-toggleable__content {max-height: 200px;max-width: 100%;overflow: auto;}#sk-container-id-2 input.sk-toggleable__control:checked~label.sk-toggleable__label-arrow:before {content: \"▾\";}#sk-container-id-2 div.sk-estimator input.sk-toggleable__control:checked~label.sk-toggleable__label {background-color: #d4ebff;}#sk-container-id-2 div.sk-label input.sk-toggleable__control:checked~label.sk-toggleable__label {background-color: #d4ebff;}#sk-container-id-2 input.sk-hidden--visually {border: 0;clip: rect(1px 1px 1px 1px);clip: rect(1px, 1px, 1px, 1px);height: 1px;margin: -1px;overflow: hidden;padding: 0;position: absolute;width: 1px;}#sk-container-id-2 div.sk-estimator {font-family: monospace;background-color: #f0f8ff;border: 1px dotted black;border-radius: 0.25em;box-sizing: border-box;margin-bottom: 0.5em;}#sk-container-id-2 div.sk-estimator:hover {background-color: #d4ebff;}#sk-container-id-2 div.sk-parallel-item::after {content: \"\";width: 100%;border-bottom: 1px solid gray;flex-grow: 1;}#sk-container-id-2 div.sk-label:hover label.sk-toggleable__label {background-color: #d4ebff;}#sk-container-id-2 div.sk-serial::before {content: \"\";position: absolute;border-left: 1px solid gray;box-sizing: border-box;top: 0;bottom: 0;left: 50%;z-index: 0;}#sk-container-id-2 div.sk-serial {display: flex;flex-direction: column;align-items: center;background-color: white;padding-right: 0.2em;padding-left: 0.2em;position: relative;}#sk-container-id-2 div.sk-item {position: relative;z-index: 1;}#sk-container-id-2 div.sk-parallel {display: flex;align-items: stretch;justify-content: center;background-color: white;position: relative;}#sk-container-id-2 div.sk-item::before, #sk-container-id-2 div.sk-parallel-item::before {content: \"\";position: absolute;border-left: 1px solid gray;box-sizing: border-box;top: 0;bottom: 0;left: 50%;z-index: -1;}#sk-container-id-2 div.sk-parallel-item {display: flex;flex-direction: column;z-index: 1;position: relative;background-color: white;}#sk-container-id-2 div.sk-parallel-item:first-child::after {align-self: flex-end;width: 50%;}#sk-container-id-2 div.sk-parallel-item:last-child::after {align-self: flex-start;width: 50%;}#sk-container-id-2 div.sk-parallel-item:only-child::after {width: 0;}#sk-container-id-2 div.sk-dashed-wrapped {border: 1px dashed gray;margin: 0 0.4em 0.5em 0.4em;box-sizing: border-box;padding-bottom: 0.4em;background-color: white;}#sk-container-id-2 div.sk-label label {font-family: monospace;font-weight: bold;display: inline-block;line-height: 1.2em;}#sk-container-id-2 div.sk-label-container {text-align: center;}#sk-container-id-2 div.sk-container {/* jupyter's `normalize.less` sets `[hidden] { display: none; }` but bootstrap.min.css set `[hidden] { display: none !important; }` so we also need the `!important` here to be able to override the default hidden behavior on the sphinx rendered scikit-learn.org. See: https://github.com/scikit-learn/scikit-learn/issues/21755 */display: inline-block !important;position: relative;}#sk-container-id-2 div.sk-text-repr-fallback {display: none;}</style><div id=\"sk-container-id-2\" class=\"sk-top-container\"><div class=\"sk-text-repr-fallback\"><pre>AdaBoostClassifier(estimator=DecisionTreeClassifier(class_weight=&#x27;balanced&#x27;,\n",
       "                                                    criterion=&#x27;entropy&#x27;,\n",
       "                                                    max_depth=17,\n",
       "                                                    min_samples_split=80),\n",
       "                   n_estimators=5)</pre><b>In a Jupyter environment, please rerun this cell to show the HTML representation or trust the notebook. <br />On GitHub, the HTML representation is unable to render, please try loading this page with nbviewer.org.</b></div><div class=\"sk-container\" hidden><div class=\"sk-item sk-dashed-wrapped\"><div class=\"sk-label-container\"><div class=\"sk-label sk-toggleable\"><input class=\"sk-toggleable__control sk-hidden--visually\" id=\"sk-estimator-id-2\" type=\"checkbox\" ><label for=\"sk-estimator-id-2\" class=\"sk-toggleable__label sk-toggleable__label-arrow\">AdaBoostClassifier</label><div class=\"sk-toggleable__content\"><pre>AdaBoostClassifier(estimator=DecisionTreeClassifier(class_weight=&#x27;balanced&#x27;,\n",
       "                                                    criterion=&#x27;entropy&#x27;,\n",
       "                                                    max_depth=17,\n",
       "                                                    min_samples_split=80),\n",
       "                   n_estimators=5)</pre></div></div></div><div class=\"sk-parallel\"><div class=\"sk-parallel-item\"><div class=\"sk-item\"><div class=\"sk-label-container\"><div class=\"sk-label sk-toggleable\"><input class=\"sk-toggleable__control sk-hidden--visually\" id=\"sk-estimator-id-3\" type=\"checkbox\" ><label for=\"sk-estimator-id-3\" class=\"sk-toggleable__label sk-toggleable__label-arrow\">estimator: DecisionTreeClassifier</label><div class=\"sk-toggleable__content\"><pre>DecisionTreeClassifier(class_weight=&#x27;balanced&#x27;, criterion=&#x27;entropy&#x27;,\n",
       "                       max_depth=17, min_samples_split=80)</pre></div></div></div><div class=\"sk-serial\"><div class=\"sk-item\"><div class=\"sk-estimator sk-toggleable\"><input class=\"sk-toggleable__control sk-hidden--visually\" id=\"sk-estimator-id-4\" type=\"checkbox\" ><label for=\"sk-estimator-id-4\" class=\"sk-toggleable__label sk-toggleable__label-arrow\">DecisionTreeClassifier</label><div class=\"sk-toggleable__content\"><pre>DecisionTreeClassifier(class_weight=&#x27;balanced&#x27;, criterion=&#x27;entropy&#x27;,\n",
       "                       max_depth=17, min_samples_split=80)</pre></div></div></div></div></div></div></div></div></div></div>"
      ],
      "text/plain": [
       "AdaBoostClassifier(estimator=DecisionTreeClassifier(class_weight='balanced',\n",
       "                                                    criterion='entropy',\n",
       "                                                    max_depth=17,\n",
       "                                                    min_samples_split=80),\n",
       "                   n_estimators=5)"
      ]
     },
     "execution_count": 39,
     "metadata": {},
     "output_type": "execute_result"
    }
   ],
   "source": [
    "abc_dt.fit(data_train_x, data_train_y)"
   ]
  },
  {
   "cell_type": "code",
   "execution_count": 40,
   "id": "377f4d4c-4d69-4cb7-98fd-69f745f2dd30",
   "metadata": {},
   "outputs": [],
   "source": [
    "pred_pca = abc_dt.predict(data_test_x)"
   ]
  },
  {
   "cell_type": "code",
   "execution_count": 41,
   "id": "739b2f09-b7f1-41a7-a0d6-255f3dc5fae1",
   "metadata": {},
   "outputs": [
    {
     "data": {
      "text/plain": [
       "array([[66151, 15226],\n",
       "       [ 9217, 15892]], dtype=int64)"
      ]
     },
     "execution_count": 41,
     "metadata": {},
     "output_type": "execute_result"
    }
   ],
   "source": [
    "confusion_matrix(data_test_y, pred_pca)"
   ]
  },
  {
   "cell_type": "code",
   "execution_count": 42,
   "id": "8d134a57-1d01-4c05-b647-926846c43c16",
   "metadata": {},
   "outputs": [
    {
     "data": {
      "text/plain": [
       "array([[0.45865979, 0.54134021],\n",
       "       [0.61369904, 0.38630096],\n",
       "       [0.57305409, 0.42694591],\n",
       "       ...,\n",
       "       [0.71282949, 0.28717051],\n",
       "       [0.55488911, 0.44511089],\n",
       "       [0.40335437, 0.59664563]])"
      ]
     },
     "execution_count": 42,
     "metadata": {},
     "output_type": "execute_result"
    }
   ],
   "source": [
    "abc_dt.predict_proba(data_test_x)"
   ]
  },
  {
   "cell_type": "code",
   "execution_count": 43,
   "id": "3d074680-048d-4add-88c1-b9f03c26782b",
   "metadata": {},
   "outputs": [
    {
     "ename": "SyntaxError",
     "evalue": "invalid syntax (2248883958.py, line 3)",
     "output_type": "error",
     "traceback": [
      "\u001b[1;36m  File \u001b[1;32m\"C:\\Users\\adity\\AppData\\Local\\Temp\\ipykernel_4560\\2248883958.py\"\u001b[1;36m, line \u001b[1;32m3\u001b[0m\n\u001b[1;33m    array([[72061,  9259],\u001b[0m\n\u001b[1;37m    ^\u001b[0m\n\u001b[1;31mSyntaxError\u001b[0m\u001b[1;31m:\u001b[0m invalid syntax\n"
     ]
    }
   ],
   "source": [
    "array([[72061,  9259],\n",
    "       [ 6311, 18855]\n",
    "array([[72061,  9259],\n",
    "       [ 6311, 18855]"
   ]
  },
  {
   "cell_type": "code",
   "execution_count": null,
   "id": "b64b6091-5f4e-4de8-b753-a5357f57abd6",
   "metadata": {},
   "outputs": [],
   "source": []
  }
 ],
 "metadata": {
  "kernelspec": {
   "display_name": "Python 3 (ipykernel)",
   "language": "python",
   "name": "python3"
  },
  "language_info": {
   "codemirror_mode": {
    "name": "ipython",
    "version": 3
   },
   "file_extension": ".py",
   "mimetype": "text/x-python",
   "name": "python",
   "nbconvert_exporter": "python",
   "pygments_lexer": "ipython3",
   "version": "3.9.13"
  }
 },
 "nbformat": 4,
 "nbformat_minor": 5
}
